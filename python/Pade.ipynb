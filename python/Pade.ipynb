{
 "cells": [
  {
   "cell_type": "markdown",
   "metadata": {},
   "source": [
    "# Pade_approximants\n",
    "A short Pade program, performing analytic continuation using an average of different Pade approximants. \n",
    "\n",
    "Given input data $f(z_{in})$ and $z_{out}$, the output data is $f(z_{out})$. \n",
    "\n",
    "Features:\n",
    "- Double precision is used (note: sometimes at least quadruple precision is needed).\n",
    "- Enforcing mirror symmetry $f(z^*)=f(z)^*$ of some of the input data is possible, look at variable 'nmins'. \n",
    "- Several Pade approximants are used and several subsets of the input data are continued. \n",
    "- An averaging of the the continuations are done.\n",
    "- Rejects continuations with positive imaginary part.\n",
    "\n",
    "### Calculation of Padé coefficients and evaluation on points in the complex plane\n",
    "The Padé approximant is written as\n",
    "$P(z) = \\frac{a_0+a_1 z + a_2 z^2 + ... + a_{r-1} z^{r-1}}{b_0 + b_1 z +b_2 z^2 + ... + b_{r-1} z^{r-1} + z^r } = \\frac{\\sum_{i=0}^{r-1} a_i z^i}{\\sum_{j=0}^{r-1} b_j z^j + z^r}$\n",
    "where $N=2r$ is the total number of Padé coefficients.\n",
    "$P(z)$ can be evaluated everywhere in the complex plane.\n",
    "Note that in the PRB paper \"Analytic continuation by averaging Padé approximants\" and in one Fortran implementation the convention is instead with indices starting with 1 instead of zero. \n",
    "\n",
    "The coefficients are calculated by setting the Padé approximant equal to the $M$ input data points $f(z)$.\n",
    "This implies the equation\n",
    "$f(z) ( b_0 + b_1 z +b_2 z^2 + ... + b_{r-1} z^{r-1} + z^r )  = a_0+a_1 z + a_2 z^2 + ... + a_{r-1} z^{r-1} $\n",
    "which can be rewritten to\n",
    "\n",
    "$a_0+a_1 z + a_2 z^2 + ... + a_{r-1} z^{r-1} - f(z) ( b_0 + b_1 z +b_2 z^2 + ... + b_{r-1} z^{r-1} )  = f(z) z^r $\n",
    "\n",
    "In matrix form this becomes:\n",
    "\n",
    "$A x = y$, with\n",
    "\n",
    "$y = f(z) z^r$,\n",
    "\n",
    "$x = [a_0, a_1 , ..., a_{r-1}, b_0, b_1, ..., b_{r-1}]$ and\n",
    "\n",
    "$A(i,:) = [ 1 , z , ...., z^{r-1} , -f(z) , -f(z) z , ..., -f(z) z^{r-1} ]$\n",
    "\n",
    "We can solve this in a least square sense.\n",
    "\n",
    "The Padé coefficients are then used to calculate P on the disired points in the complex plane. \n",
    "\n",
    "The function acPade below is doing this.\n",
    "\n",
    "### Averaging \n",
    "The value of the Pade approximants on the disired points in the complex plane are stored.\n",
    "The parameters $N$,$M$ are varied. All the output are stored in variable 'fs'.\n",
    "The distance between the imaginary parts of the continuations are calculated. \n",
    "\n",
    "$\\Delta_{i,j} = \\sum_k |\\mathrm{Im}[fs_i(z_k)-fs_j(z_k)]|$\n",
    "\n",
    "and the distance to all the other continuations are calculated according to:\n",
    "\n",
    "$d_i = \\sum_{j \\neq i } \\Delta_{i,j} $\n",
    "\n",
    "With this distance measure, we introduce two criteria for selecting continuations.\n",
    "For each continuation the two criteria are checked.\n",
    "The mean distance $\\tilde{d} = \\frac{1}{\\#d}\\sum_i d_i$ is used for the first criterion.\n",
    "\n",
    "1) The distance should be smaller than $0.95\\tilde{d}$ \n",
    "\n",
    "2) The distance should be among the 51% lowest distances.\n",
    "\n",
    "If both criteria are meet, the continuation is included. \n",
    "In the end, a simple average is done among the included continuations.\n",
    "In case one wants to look at all the continuations and/or which of them are included in the averaging, it is also returned by the pade function.\n",
    "     "
   ]
  },
  {
   "cell_type": "code",
   "execution_count": 10,
   "metadata": {
    "collapsed": true
   },
   "outputs": [],
   "source": [
    "import numpy as np"
   ]
  },
  {
   "cell_type": "code",
   "execution_count": 3,
   "metadata": {
    "collapsed": false
   },
   "outputs": [],
   "source": [
    "def acPade(z,fs,N,zout):\n",
    "    '''\n",
    "    # Input variables:\n",
    "    # z    - complex. points in the complex plane.\n",
    "    # fs   - complex. Corresponding (Green's) function in the complex plane. Columns represent different functions.\n",
    "    # N    - int. Number of Padé coefficients to use\n",
    "    # zout - complex. Points where continuation is evaluated\n",
    "    # \n",
    "    # Assumes the asymptote of fs is 0+a/z+b/z^2. \n",
    "    '''\n",
    "    if not N % 2 == 0 : \n",
    "        print \"Error: The number of Padé coefficients in acPade function should be even.\"\n",
    "    r = N/2\n",
    "    M = len(z) # number of input points\n",
    "    \n",
    "    fout = []\n",
    "    for f in fs.T: # column by column\n",
    "        # Construct the matrix and rhs in linear system of equations. \n",
    "        y = f*z**r\n",
    "        A = np.ones((M,N),dtype=np.complex)\n",
    "        for i in range(M):\n",
    "            A[i,:r] = z[i]**(np.arange(r)) \n",
    "            A[i,r:] = -f[i]*z[i]**(np.arange(r)) \n",
    "    \n",
    "        # Calculated Padé coefficients\n",
    "        sol = np.linalg.lstsq(A, y)\n",
    "        x = sol[0] # Padé coefficents\n",
    "        #print 'error_2= ',np.linalg.norm(np.dot(A,x)-y)\n",
    "        #print 'residuals = ', sol[1]\n",
    "        #print 'rank = ',sol[2]\n",
    "        #print 'singular values / highest_singlular_value= ',sol[3]/sol[3][0]\n",
    "    \n",
    "        # Evaluate Padé approximant at points zout  \n",
    "        numerator = np.zeros(len(zout),dtype=np.complex256)\n",
    "        denomerator = np.zeros(len(zout),dtype=np.complex256)\n",
    "        for i in range(r):\n",
    "            numerator += x[i]*zout**i\n",
    "            denomerator += x[r+i]*zout**i\n",
    "        denomerator += zout**r\n",
    "        fout.append(numerator/denomerator)\n",
    "    fout = np.array(fout).T\n",
    "    return fout"
   ]
  },
  {
   "cell_type": "code",
   "execution_count": 4,
   "metadata": {
    "collapsed": false
   },
   "outputs": [],
   "source": [
    "def pick_points(z,f,nmin,M,cols):\n",
    "    '''\n",
    "    z      - complex. Points in the complex plane.\n",
    "    f      - complex. function values for different orbitals at the points 'z'.\n",
    "    nmin   - integer. index of lowest points to pick.\n",
    "    M      - integer. Number of points to pick.\n",
    "    cols   - integer. Columns to pick.\n",
    "    \n",
    "    Pick out some of the input points from z and f.\n",
    "    Pick out columns from f given by variable cols. \n",
    "    '''\n",
    "    if nmin>=0 :\n",
    "        zp = z[nmin:nmin+M]\n",
    "        fp = f[nmin:nmin+M,cols]\n",
    "    else:\n",
    "        # use mirror symmetry of (Green's) function: f(z^*)_{i,i} = f(z)_{i,i}^*\n",
    "        # Extension to multi-orbital case is: f(z^*)_{i,j} = f(z)_{j,i}^*   \n",
    "        nadd = -nmin\n",
    "        zp = np.hstack([np.conj(z[nadd-1::-1]),z[:M-nadd]])\n",
    "        fp = np.vstack([np.conj(f[nadd-1::-1,cols]),f[:M-nadd,cols]])\n",
    "    return zp,fp"
   ]
  },
  {
   "cell_type": "markdown",
   "metadata": {},
   "source": [
    "## Pade function"
   ]
  },
  {
   "cell_type": "code",
   "execution_count": 5,
   "metadata": {
    "collapsed": true
   },
   "outputs": [],
   "source": [
    "def pade(zin,fin,zout):\n",
    "    ''' \n",
    "    # Input variables:\n",
    "    # zin  - complex. Points in complex plane.\n",
    "    # fin  - complex. With several columns for different orbitals. Expects a 2d array\n",
    "    # zout - complex. Points where continuation is evaluated.\n",
    "    '''\n",
    "    #---------------------------------------------------------------------------------------\n",
    "    # Pade settings\n",
    "    cols = [0] # range(17), [0,1] ,which columns in fin to continue \n",
    "    nmins = [-5]      # [-5,-1] , the minimum index of the input points to include. For value < 0 mirror values are added to input points before continuations. \n",
    "    Mmin = 40 # minimum number of input points to use\n",
    "    Mmax = 80 # maximum number of input points to use\n",
    "    Nmin = 10 # minimum number of Padé coefficients to use\n",
    "    Nmax = 40 # maximum number of Padé coefficients to use\n",
    "    Mstep = 4 # step size in M\n",
    "    Nstep = 4 # step size in N\n",
    "    diagonalPade = False # To perform continuations with only N==M or with N<=M  \n",
    "    \n",
    "    # Computational time:\n",
    "    # O((Nmax-Nmin)*(Mmax-Mmin)*Nmax^3) for doing the continuations\n",
    "    # O(((Nmax-Nmin)*(Mmax-Mmin))^2*Mmax) for calculating the devations between the continuations\n",
    "    \n",
    "    #---------------------------------------------------------------------------------------\n",
    "    \n",
    "    Ms = np.arange(Mmin,Mmax+1,Mstep)\n",
    "    Ns = np.arange(Nmin,Nmax+1,Nstep)\n",
    "    \n",
    "    # 2Do: find constant asymptote term from input data to make the data to continue optimal for Pade \n",
    "    # It works quite well without this acually...\n",
    "    \n",
    "    # Loop over all the continuations to perform\n",
    "    fs = [] \n",
    "    counter = 0\n",
    "    for nmin in nmins:\n",
    "        for M in Ms:\n",
    "            #print 'M=',M\n",
    "            if not diagonalPade:\n",
    "                for N in Ns[Ns<=M]:\n",
    "                    #print '  N=',N\n",
    "                    counter += 1\n",
    "                    zin_p,fin_p = pick_points(zin,fin,nmin,M,cols)\n",
    "                    f = acPade(zin_p,fin_p,N,zout)\n",
    "                    if np.all(np.imag(f) <= 0):\n",
    "                        fs.append(f)\n",
    "            else:\n",
    "                counter += 1\n",
    "                N = M\n",
    "                zin_p,fin_p = pick_points(zin,fin,nmin,M,cols)\n",
    "                f = acPade(zin_p,fin_p,N,zout)\n",
    "                if np.all(np.imag(f) <= 0):\n",
    "                    fs.append(f)\n",
    "    print counter,' continuations performed per orbital.'\n",
    "    fs = np.array(fs)\n",
    "    masks = []\n",
    "    fmeans = []\n",
    "    for a in range(np.shape(fs)[2]): # Loop over the orbitals (they are independent from now on)\n",
    "        f = fs[:,:,a]\n",
    "        # loop over all physical continuations, calculating distance between imaginary part of the continuations\n",
    "        delta = np.zeros((len(f),len(f))) # store distances between all the continuations\n",
    "        for i,fi in enumerate(f):\n",
    "            for j in range(i+1,len(f)):\n",
    "                delta[i,j] = np.linalg.norm(fi.imag-f[j].imag,ord=1) \n",
    "        d = np.zeros(len(f)) # store accumulative distances to the other continuations\n",
    "        for i,fi in enumerate(f):\n",
    "            d[i] = np.sum(delta[:i,i]) + np.sum(delta[i,i+1:])\n",
    "        # calculate if to include or reject continuations based on two criteria:\n",
    "        c1 = d <= 0.95*np.mean(d)\n",
    "        c2 = np.zeros(len(d),dtype=np.bool)\n",
    "        ind = np.argsort(d)[:int(0.51*len(d))] # indices to 51% lowest distances \n",
    "        c2[ind] = True\n",
    "        mask = c1 & c2 # continuations to include\n",
    "        fmean = np.mean(f[mask],axis=0) # average selected continuations\n",
    "        masks.append(mask)\n",
    "        fmeans.append(fmean)\n",
    "    \n",
    "    masks = np.array(masks).T\n",
    "    fmeans = np.array(fmeans).T\n",
    "    \n",
    "    return fmeans,fs,masks # the average continuations, all physical continuations and masks for averaging "
   ]
  },
  {
   "cell_type": "markdown",
   "metadata": {},
   "source": [
    "## Importing and preparing input data"
   ]
  },
  {
   "cell_type": "code",
   "execution_count": 36,
   "metadata": {
    "collapsed": false
   },
   "outputs": [],
   "source": [
    "# Non-interacting Hubbardmodel on the Bethe-lattice \n",
    "def G0bethe(z):\n",
    "    W = 2 # bandwidth\n",
    "    return 8*z/W**2*(1-np.sqrt(1-(2*z/W)**(-2)))\n",
    "# Matsubara input data\n",
    "beta = 100\n",
    "zin = 1j*(2*np.arange(200)+1)*np.pi/beta\n",
    "fin = np.atleast_2d(G0bethe(zin)).T\n",
    "# Real axis \n",
    "w = np.linspace(-2,2,1000) # real axis energy\n",
    "eim = 0.01 # distance above real axis\n",
    "zout = w+eim*1j "
   ]
  },
  {
   "cell_type": "code",
   "execution_count": null,
   "metadata": {
    "collapsed": true
   },
   "outputs": [],
   "source": [
    "# Sm7 data (these input files are not included in the project)\n",
    "# Matsubara input data\n",
    "#inputfolder = \"/Users/johsc615/Dropbox/phd/projects/Pade/analytic_continuation_by_averaging_Pade_approximants/pics/Sm7-cluster/pek1/highPrecisionRaw/r1916_1shot_bis/type_01\"\n",
    "#import os\n",
    "#os.chdir(inputfolder)\n",
    "#fnameRe = 'real-sig-0103010100.dat'\n",
    "#fnameIm = 'imag-sig-0103010100.dat'\n",
    "#Gre = np.loadtxt(fnameRe)\n",
    "#Gim = np.loadtxt(fnameIm)\n",
    "#zin = Gre[:,0]*1j\n",
    "#fin = Gre[:,1:]+Gim[:,1:]*1j\n",
    "#print np.shape(fin)\n",
    "# Real axis \n",
    "#w = np.linspace(-2,2,1000) # real axis energy\n",
    "#eim = 0.01 # distance above real axis\n",
    "#zout = w+eim*1j \n",
    "\n",
    "# RPA data (these input files are not included in the project)\n",
    "# Matsubara input data\n",
    "#inputfolder = \"/Users/johsc615/Dropbox/phd/projects/bosonic_susceptibility/RPA-python\"\n",
    "#import os\n",
    "#os.chdir(inputfolder)\n",
    "#k = 40\n",
    "#fin = np.loadtxt('output_mats_k'+str(k)+'.dat')\n",
    "#zin = fin[:,0]*1j\n",
    "#fin = fin[:,1]+fin[:,2]*1j\n",
    "#fin = np.atleast_2d(fin).T\n",
    "# Real axis \n",
    "#w = np.linspace(0.001,2,1000) # real axis energy\n",
    "#eim = 0.05 # distance above real axis\n",
    "#zout = w+eim*1j "
   ]
  },
  {
   "cell_type": "markdown",
   "metadata": {},
   "source": [
    "# Main function is called"
   ]
  },
  {
   "cell_type": "code",
   "execution_count": 41,
   "metadata": {
    "collapsed": false,
    "scrolled": true
   },
   "outputs": [
    {
     "name": "stdout",
     "output_type": "stream",
     "text": [
      "88  continuations performed per orbital.\n",
      "--------------------  After pade routine  ------------------\n",
      "(#physical continuation,#E,#orbitals) =  (75, 1000, 1)\n",
      "(#E,#orbitals) =  (1000, 1)\n"
     ]
    }
   ],
   "source": [
    "fmeans,fs,masks = pade(zin,fin,zout)\n",
    "print '--------------------  After pade routine  ------------------'\n",
    "print  '(#physical continuation,#E,#orbitals) = ',np.shape(fs) \n",
    "print  '(#E,#orbitals) = ',np.shape(fmeans)\n",
    "#print np.shape(fout)\n",
    "#print fout.dtype \n",
    "#print 'mask=',mask"
   ]
  },
  {
   "cell_type": "markdown",
   "metadata": {},
   "source": [
    "### Plot spectrum"
   ]
  },
  {
   "cell_type": "code",
   "execution_count": 16,
   "metadata": {
    "collapsed": true
   },
   "outputs": [],
   "source": [
    "import matplotlib.pylab as plt"
   ]
  },
  {
   "cell_type": "code",
   "execution_count": 39,
   "metadata": {
    "collapsed": false
   },
   "outputs": [],
   "source": [
    "plt.figure(1)\n",
    "plt.clf()\n",
    "col = 0\n",
    "plt.plot(w,-1/np.pi*np.imag(fs[:,:,col].T),'-g')  # all continuations \n",
    "plt.plot(w,-1/np.pi*np.imag(fs[masks[:,col],:,col].T),'-b')  # all picked continuations\n",
    "plt.plot(w,-1/np.pi*np.imag(fmeans[:,col]),'-r',linewidth=3)  # the average result\n",
    "\n",
    "plt.plot(w,-1/np.pi*np.imag(G0bethe(zout)),'-k',label='exact') # exact spectrum for bethe-lattice\n",
    "\n",
    "plt.show()"
   ]
  },
  {
   "cell_type": "markdown",
   "metadata": {},
   "source": [
    "### Save spectrum"
   ]
  },
  {
   "cell_type": "code",
   "execution_count": 40,
   "metadata": {
    "collapsed": false
   },
   "outputs": [],
   "source": [
    "tmp = np.vstack([w,(fmeans.real).T,(fmeans.imag).T]).T\n",
    "np.savetxt('out.dat',tmp)"
   ]
  },
  {
   "cell_type": "markdown",
   "metadata": {},
   "source": [
    "# Testing / debugging  of Padé routines\n",
    "Space for exploring/improving the code"
   ]
  },
  {
   "cell_type": "code",
   "execution_count": null,
   "metadata": {
    "collapsed": false
   },
   "outputs": [],
   "source": []
  },
  {
   "cell_type": "code",
   "execution_count": null,
   "metadata": {
    "collapsed": false
   },
   "outputs": [],
   "source": []
  },
  {
   "cell_type": "code",
   "execution_count": null,
   "metadata": {
    "collapsed": false
   },
   "outputs": [],
   "source": []
  },
  {
   "cell_type": "code",
   "execution_count": null,
   "metadata": {
    "collapsed": false
   },
   "outputs": [],
   "source": []
  },
  {
   "cell_type": "code",
   "execution_count": 5,
   "metadata": {
    "collapsed": true
   },
   "outputs": [],
   "source": [
    " "
   ]
  },
  {
   "cell_type": "code",
   "execution_count": null,
   "metadata": {
    "collapsed": false
   },
   "outputs": [],
   "source": []
  },
  {
   "cell_type": "code",
   "execution_count": null,
   "metadata": {
    "collapsed": false
   },
   "outputs": [],
   "source": []
  },
  {
   "cell_type": "code",
   "execution_count": null,
   "metadata": {
    "collapsed": true
   },
   "outputs": [],
   "source": []
  }
 ],
 "metadata": {
  "kernelspec": {
   "display_name": "Python 2",
   "language": "python",
   "name": "python2"
  },
  "language_info": {
   "codemirror_mode": {
    "name": "ipython",
    "version": 2
   },
   "file_extension": ".py",
   "mimetype": "text/x-python",
   "name": "python",
   "nbconvert_exporter": "python",
   "pygments_lexer": "ipython2",
   "version": "2.7.10"
  }
 },
 "nbformat": 4,
 "nbformat_minor": 0
}
